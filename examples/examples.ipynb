{
 "cells": [
  {
   "cell_type": "markdown",
   "id": "37dfe2cd",
   "metadata": {},
   "source": [
    "# Introduction"
   ]
  },
  {
   "cell_type": "markdown",
   "id": "c24072f1",
   "metadata": {},
   "source": [
    "This notebook demonstrates common usages of the `fdhpy` package. The package implements the following *fault displacement models* in Python:\n",
    "\n",
    "- The Youngs et al. (2003) model (https://doi.org/10.1193/1.1542891).\n",
    "- The Petersen et al. (2011) model (https://doi.org/10.1785/0120100035).\n",
    "- The Moss and Ross (2011) model (https://doi.org/10.1785/0120100248).\n",
    "- The Lavrentiadis & Abrahamson model (https://doi.org/10.1177/87552930231201531).\n",
    "- The Moss et al. (2024) model (https://doi.org/10.1177/87552930241288560).\n",
    "- The Kuehn et al. (2024) model (https://doi.org/10.1177/87552930241291077).\n",
    "- The Chiou et al. (2025) model (DOI TBD)."
   ]
  },
  {
   "cell_type": "markdown",
   "id": "bee5f7b5-ad1d-4054-ad18-956cdb7ac937",
   "metadata": {},
   "source": [
    "# Overview"
   ]
  },
  {
   "cell_type": "markdown",
   "id": "24c9d8a1-1eb8-497c-96a6-436bdbdc7453",
   "metadata": {},
   "source": [
    "Each fault displacement model is represented by its own class and can be instantiated with appropriate parameters.\n",
    "\n",
    "The following properties are available for each model as calculated attributes of an instance:\n",
    "\n",
    "- `displ_site` : Calculate deterministic scenario displacement in meters.\n",
    "- `displ_avg` : Calculate average displacement (AD) in meters.\n",
    "- `displ_max` : Calculate maximum displacement (MD) in meters.\n",
    "- `displ_profile` : Calculate displacement profile in meters.\n",
    "- `cdf` : Calculate probability that the displacement is less than or equal to a specific value.\n",
    "- `prob_exceed` : Calculate probability that the displacement exceeds a specific value.\n",
    "\n",
    "Only one scenario (e.g., magnitude&mdash;x/L) is permitted. In other words, the user will need to loop over the function to consider multiple cases."
   ]
  },
  {
   "cell_type": "markdown",
   "id": "89732be7",
   "metadata": {},
   "source": [
    "# Import libraries"
   ]
  },
  {
   "cell_type": "code",
   "execution_count": 1,
   "id": "d5e731fb",
   "metadata": {},
   "outputs": [],
   "source": [
    "%matplotlib inline\n",
    "\n",
    "import numpy as np\n",
    "\n",
    "import matplotlib.pyplot as plt\n",
    "import matplotlib.ticker as ticker\n",
    "\n",
    "import fdhpy"
   ]
  },
  {
   "cell_type": "markdown",
   "id": "3bb49794-b470-40fa-9e5d-47058cf3ec88",
   "metadata": {},
   "source": [
    "# Help"
   ]
  },
  {
   "cell_type": "code",
   "execution_count": 2,
   "id": "b2d5265f",
   "metadata": {
    "scrolled": true
   },
   "outputs": [
    {
     "name": "stdout",
     "output_type": "stream",
     "text": [
      "\n",
      "fdhpy Quick Usage Guide\n",
      "\n",
      "Usage instructions for both CLI and module-level interactions with the `fdphy` package:\n",
      "\n",
      "-----------------------------------\n",
      "Available Models as Package Modules\n",
      "-----------------------------------\n",
      "\n",
      "The following fault displacement models are currently available and may be accessed as separate\n",
      "modules in the `fdphy` package:\n",
      "\n",
      "- YoungsEtAl2003 : The Youngs et al. (2003) model (https://doi.org/10.1193/1.1542891).\n",
      "- PetersenEtAl2011 : The Petersen et al. (2011) model (https://doi.org/10.1785/0120100035).\n",
      "- MossRoss2011 : The Moss and Ross (2011) model (https://doi.org/10.1785/0120100248).\n",
      "- LavrentiadisAbrahamson2023: The Lavrentiadis & Abrahamson model\n",
      "  (https://doi.org/10.1177/87552930231201531).\n",
      "- MossEtAl2024 : The Moss et al. (2024) model (https://doi.org/10.1177/87552930241288560).\n",
      "- KuehnEtAl2024 : The Kuehn et al. (2024) model (https://doi.org/10.1177/87552930241291077).\n",
      "- ChiouEtAl2025 : The Chiou et al. (2025) model (DOI TBD).\n",
      "\n",
      "--------------------\n",
      "Available Properties\n",
      "--------------------\n",
      "\n",
      "The following properties are available for each model as calculated attributes of an instance:\n",
      "\n",
      "- displ_site : Calculate deterministic scenario displacement in meters.\n",
      "- displ_avg : Calculate average displacement (AD) in meters.\n",
      "- displ_max : Calculate maximum displacement (MD) in meters.\n",
      "- displ_profile : Calculate displacement profile in meters.\n",
      "- cdf : Calculate probability that the displacement is less than or equal to a specific value.\n",
      "- prob_exceed : Calculate probability that the displacement exceeds a specific value.\n",
      "\n",
      "----------------------------\n",
      "Command-Line Interface (CLI)\n",
      "----------------------------\n",
      "\n",
      "The CLI syntax follows this pattern:\n",
      "    $ fd-ModelAbbreviation method [options]\n",
      "\n",
      "For example:\n",
      "    $ fd-mr11 displ_avg -m 7.5 -p 0.84\n",
      "\n",
      "The options can be viewed with:\n",
      "    $ fd-ModelAbbreviation --help\n",
      "\n",
      "For example:\n",
      "    $ fd-mr11 --help\n",
      "\n",
      "The required options and valid inputs vary with the fault displacement model and method. The\n",
      "documentation for a specific model can be viewed with:\n",
      "    $ python -c \"from fdhpy import fd-ModelAbbreviation; print(fd-ModelAbbreviation.__doc__)\"\n",
      "\n",
      "For example:\n",
      "    $ python -c \"from fdhpy import fd-mr11; print(fd-mr11.__doc__)\"\n",
      "\n",
      "Model Module Names & Abbreviations:\n",
      "\n",
      "- YoungsEtAl2003 : yea03\n",
      "- PetersenEtAl2011 : pea11\n",
      "- MossRoss2011 : mr11\n",
      "- LavrentiadisAbrahamson2023: la23\n",
      "- MossEtAl2024 : mea24\n",
      "- KuehnEtAl2024 : kea24\n",
      "- ChiouEtAl2025 : cea25\n",
      "\n",
      "----------------------\n",
      "Module-Level Interface\n",
      "----------------------\n",
      "\n",
      "To use the package at the module level, you can import and call the methods directly:\n",
      "\n",
      "    from fdhpy import PetersenEtAl2011\n",
      "    print(PetersenEtAl2011.__doc__)\n",
      "    print(PetersenEtAl2011.displ_site.__doc__)\n",
      "\n",
      "    model = PetersenEtAl2011(\n",
      "        magnitude=7,\n",
      "        xl=0.1,\n",
      "        percentile=0.84,\n",
      "        metric=\"principal\",\n",
      "        version=\"elliptical\",\n",
      "    )\n",
      "    result = model.displ_site\n",
      "\n",
      "\n"
     ]
    }
   ],
   "source": [
    "# View the Quick Usage Guide\n",
    "print(fdhpy.__quickstart__)"
   ]
  },
  {
   "cell_type": "code",
   "execution_count": 3,
   "id": "a2549d2d",
   "metadata": {
    "scrolled": true
   },
   "outputs": [
    {
     "name": "stdout",
     "output_type": "stream",
     "text": [
      "\n",
      "    Chiou et al. (2025) fault displacement model. Applicable to sum-of-principal surface fault\n",
      "    displacement on strike-slip faults.\n",
      "\n",
      "    Parameters\n",
      "    ----------\n",
      "    style : str, optional\n",
      "        Style of faulting (case-insensitive). Default is \"strike-slip\".\n",
      "\n",
      "    magnitude : float\n",
      "        Earthquake moment magnitude. Recommended range is (6, 8.3).\n",
      "\n",
      "    xl : float\n",
      "        Normalized location x/L along the rupture length, range [0, 1.0].\n",
      "\n",
      "    xl_step : float, optional\n",
      "        Step size increment for slip profile calculations. Default is 0.05.\n",
      "\n",
      "    percentile : float\n",
      "        Aleatory quantile of interest. Use -1 for mean.\n",
      "\n",
      "    metric : str, optional\n",
      "        Definition of displacement (case-insensitive). Valid options are \"sum-of-principal\".\n",
      "        Default is \"sum-of-principal\".\n",
      "\n",
      "    version : str, optional\n",
      "        Name of the model formulation (case-insensitive). Valid options are \"model7\", \"model8.1\",\n",
      "        \"model8.2\", or \"model8.3\". Default is \"model7\".\n",
      "\n",
      "    displ_array : np.ndarray\n",
      "        Displacement test value(s) in meters. Default array is provided.\n",
      "\n",
      "    Notes\n",
      "    -----\n",
      "    See model help at the module level:\n",
      "\n",
      "        .. code-block:: python\n",
      "\n",
      "            from fdhpy import ChiouEtAl2025\n",
      "            print(ChiouEtAl2025.__doc__)\n",
      "\n",
      "    See model help in command line:\n",
      "\n",
      "        .. code-block:: console\n",
      "\n",
      "            $ fd-cea25 --help\n",
      "    \n"
     ]
    }
   ],
   "source": [
    "# View documentation for a specific model\n",
    "print(fdhpy.ChiouEtAl2025.__doc__)"
   ]
  },
  {
   "cell_type": "markdown",
   "id": "0b4c7dcc-5704-4a25-8cf0-78d41981964d",
   "metadata": {},
   "source": [
    "# Site displacement example"
   ]
  },
  {
   "cell_type": "code",
   "execution_count": 4,
   "id": "d7bf2163-1757-4837-be10-9a5a3c944803",
   "metadata": {
    "scrolled": true
   },
   "outputs": [
    {
     "name": "stdout",
     "output_type": "stream",
     "text": [
      "\n",
      "        Calculate deterministic scenario displacement in meters.\n",
      "\n",
      "        Parameters\n",
      "        ----------\n",
      "        style : str\n",
      "            Style of faulting (case-insensitive). Common options are 'strike-slip', 'reverse', or\n",
      "            'normal'.\n",
      "\n",
      "        magnitude : float\n",
      "            Earthquake moment magnitude.\n",
      "\n",
      "        xl : float\n",
      "            Normalized location x/L along the rupture length, range [0, 1.0].\n",
      "\n",
      "        percentile : float\n",
      "            Aleatory quantile of interest. Use -1 for mean.\n",
      "\n",
      "        metric : str\n",
      "            Definition of displacement (case-insensitive), e.g. 'principal'. Varies by model. See\n",
      "            model help for specifics.\n",
      "\n",
      "        version : str\n",
      "            Name of the model formulation for the given metric (case-insensitive), e.g. 'D/AD' or\n",
      "            'median_coeffs'. Varies by model. See model help for specifics.\n",
      "\n",
      "        Returns\n",
      "        -------\n",
      "        float\n",
      "            Displacement in meters.\n",
      "\n",
      "        Notes\n",
      "        -----\n",
      "        Parameters shown are typical; details vary with specific model.\n",
      "        \n"
     ]
    }
   ],
   "source": [
    "print(fdhpy.KuehnEtAl2024.displ_site.__doc__)"
   ]
  },
  {
   "cell_type": "code",
   "execution_count": 5,
   "id": "542c9eba-25ed-43cf-bfa6-8ccb23b68953",
   "metadata": {},
   "outputs": [
    {
     "name": "stdout",
     "output_type": "stream",
     "text": [
      "2.681510644477356\n"
     ]
    }
   ],
   "source": [
    "model = fdhpy.KuehnEtAl2024(magnitude=7, xl=0.3, style=\"reverse\", percentile=0.84)\n",
    "print(model.displ_site)"
   ]
  },
  {
   "cell_type": "markdown",
   "id": "ea8997b4-afb7-4788-bcee-14d945d6dad0",
   "metadata": {},
   "source": [
    "# Displacement profile example"
   ]
  },
  {
   "cell_type": "code",
   "execution_count": 6,
   "id": "60b26207-7636-448c-8e58-00a7f2912969",
   "metadata": {
    "scrolled": true
   },
   "outputs": [
    {
     "name": "stdout",
     "output_type": "stream",
     "text": [
      "\n",
      "        Calculate the displacement profile at 'xl_step' increments.\n",
      "\n",
      "        Parameters\n",
      "        ----------\n",
      "        style : str\n",
      "            Style of faulting (case-insensitive). Common options are 'strike-slip', 'reverse', or\n",
      "            'normal'.\n",
      "\n",
      "        magnitude : float\n",
      "            Earthquake moment magnitude.\n",
      "\n",
      "        percentile : float\n",
      "            Aleatory quantile of interest. Use -1 for mean.\n",
      "\n",
      "        xl_step : float, optional\n",
      "            Step size increment for slip profile calculations. Default is 0.05.\n",
      "\n",
      "        metric : str\n",
      "            Definition of displacement (case-insensitive), e.g. 'principal'. Varies by model. See\n",
      "            model help for specifics.\n",
      "\n",
      "        version : str\n",
      "            Name of the model formulation for the given metric (case-insensitive), e.g. 'D/AD' or\n",
      "            'median_coeffs'. Varies by model. See model help for specifics.\n",
      "\n",
      "        Returns\n",
      "        -------\n",
      "        tuple of numpy.ndarray\n",
      "            A tuple containing:\n",
      "\n",
      "            - xl_array : numpy.ndarray\n",
      "                Normalized location x/L along the rupture length.\n",
      "\n",
      "            - displacement : numpy.ndarray\n",
      "                Displacement in meters.\n",
      "\n",
      "        Notes\n",
      "        -----\n",
      "        Parameters shown are typical; details vary with specific model.\n",
      "        \n"
     ]
    }
   ],
   "source": [
    "print(fdhpy.ChiouEtAl2025.displ_profile.__doc__)"
   ]
  },
  {
   "cell_type": "code",
   "execution_count": 7,
   "id": "5cb6d7f6-5fcb-427d-aded-30a98ca5b657",
   "metadata": {},
   "outputs": [
    {
     "data": {
      "image/png": "[encoded data removed]",
      "text/plain": [
       "<Figure size 600x300 with 1 Axes>"
      ]
     },
     "metadata": {},
     "output_type": "display_data"
    }
   ],
   "source": [
    "m, p = 6.8, 0.5\n",
    "xl_array, displ = fdhpy.ChiouEtAl2025(magnitude=m, percentile=p).displ_profile\n",
    "\n",
    "fig, ax = plt.subplots(1,1, figsize=(6,3))\n",
    "ax.plot(xl_array, displ)\n",
    "ax.set_title(f\"Chiou et al. Model, Magnitude {m}, {p} percentile\")\n",
    "ax.set_ylabel(\"Displacement (m)\")\n",
    "ax.set_xlabel(\"x/L\");"
   ]
  },
  {
   "cell_type": "markdown",
   "id": "293e052d-8260-4639-9fcc-8f3a36d9bb57",
   "metadata": {},
   "source": [
    "# Average displacement example"
   ]
  },
  {
   "cell_type": "code",
   "execution_count": 8,
   "id": "010554b2-8a1c-40f5-a3a7-e4d48743c94c",
   "metadata": {},
   "outputs": [
    {
     "data": {
      "image/png": "[encoded data removed]",
      "text/plain": [
       "<Figure size 450x300 with 1 Axes>"
      ]
     },
     "metadata": {},
     "output_type": "display_data"
    }
   ],
   "source": [
    "magnitudes = np.arange(6,8.1,.1)\n",
    "results = [fdhpy.MossEtAl2024(magnitude=m, percentile=0.5).displ_avg for m in magnitudes]\n",
    "\n",
    "fig, ax = plt.subplots(1,1, figsize=(4.5,3))\n",
    "ax.semilogy(magnitudes, results)\n",
    "ax.set_title(\"Moss et al. Model\")\n",
    "ax.set_ylabel(\"Average Displacement (m)\")\n",
    "ax.set_xlabel(\"Magnitude\")\n",
    "\n",
    "ax.set_yticks([0.1, 1, 10])\n",
    "ax.yaxis.set_major_formatter(ticker.FormatStrFormatter(\"%g\"))\n",
    "plt.minorticks_on()\n",
    "ax.grid(which=\"major\", axis=\"both\", alpha=0.5)\n",
    "ax.grid(which=\"minor\", axis=\"both\", alpha=0.25)"
   ]
  },
  {
   "cell_type": "markdown",
   "id": "e0d9eb14-5305-4916-8364-6604cd8418df",
   "metadata": {},
   "source": [
    "# Exceedance probability example"
   ]
  },
  {
   "cell_type": "code",
   "execution_count": 9,
   "id": "4448f301-97c4-4cf1-959c-3c454a48d04e",
   "metadata": {
    "scrolled": true
   },
   "outputs": [
    {
     "name": "stdout",
     "output_type": "stream",
     "text": [
      "\n",
      "        Calculate the probability that the displacement exceeds a specific value.\n",
      "\n",
      "        Parameters\n",
      "        ----------\n",
      "        style : str\n",
      "            Style of faulting (case-insensitive). Common options are 'strike-slip', 'reverse', or\n",
      "            'normal'.\n",
      "\n",
      "        magnitude : float\n",
      "            Earthquake moment magnitude.\n",
      "\n",
      "        xl : float\n",
      "            Normalized location x/L along the rupture length, range [0, 1.0].\n",
      "\n",
      "        displ_array : ArrayLike, optional\n",
      "            Test values of displacement in meters. Default array is provided.\n",
      "\n",
      "        metric : str\n",
      "            Definition of displacement (case-insensitive), e.g. 'principal'. Varies by model. See\n",
      "            model help for specifics.\n",
      "\n",
      "        version : str\n",
      "            Name of the model formulation for the given metric (case-insensitive), e.g. 'D/AD' or\n",
      "            'median_coeffs'. Varies by model. See model help for specifics.\n",
      "\n",
      "        Returns\n",
      "        -------\n",
      "        numpy.ndarray\n",
      "            Exceedance probability.\n",
      "\n",
      "        Notes\n",
      "        -----\n",
      "        Parameters shown are typical; details vary with specific model.\n",
      "        \n"
     ]
    }
   ],
   "source": [
    "print(fdhpy.LavrentiadisAbrahamson2023.prob_exceed.__doc__)"
   ]
  },
  {
   "cell_type": "code",
   "execution_count": 10,
   "id": "2775f5ae-746c-4846-a4fe-704973938a3d",
   "metadata": {},
   "outputs": [
    {
     "data": {
      "image/png": "[encoded data removed]",
      "text/plain": [
       "<Figure size 450x300 with 1 Axes>"
      ]
     },
     "metadata": {},
     "output_type": "display_data"
    }
   ],
   "source": [
    "model = fdhpy.LavrentiadisAbrahamson2023(magnitude=7.2, xl=0.6, style=\"strike-slip\", metric=\"aggregate\")\n",
    "default_displ = model.displ_array\n",
    "pe = model.prob_exceed\n",
    "\n",
    "fig, ax = plt.subplots(1,1, figsize=(4.5,3))\n",
    "ax.loglog(default_displ, pe)\n",
    "ax.set_ylabel(\"Probability of Exceedance\")\n",
    "ax.set_xlabel(\"Displacement (m)\")\n",
    "\n",
    "ax.set(xlim=[0.01, 30], ylim=[1e-3, 1])\n",
    "ax.xaxis.set_major_formatter(ticker.FormatStrFormatter(\"%g\"))\n",
    "ax.yaxis.set_major_formatter(ticker.FormatStrFormatter(\"%g\"))\n",
    "plt.minorticks_on()\n",
    "ax.grid(which=\"major\", axis=\"both\", alpha=0.5)\n",
    "ax.grid(which=\"minor\", axis=\"both\", alpha=0.25)"
   ]
  }
 ],
 "metadata": {
  "kernelspec": {
   "display_name": "venv (fdhpy)",
   "language": "python",
   "name": "fdhpy_venv"
  },
  "language_info": {
   "codemirror_mode": {
    "name": "ipython",
    "version": 3
   },
   "file_extension": ".py",
   "mimetype": "text/x-python",
   "name": "python",
   "nbconvert_exporter": "python",
   "pygments_lexer": "ipython3",
   "version": "3.12.4"
  },
  "toc": {
   "base_numbering": 1,
   "nav_menu": {},
   "number_sections": true,
   "sideBar": true,
   "skip_h1_title": false,
   "title_cell": "Table of Contents",
   "title_sidebar": "Contents",
   "toc_cell": false,
   "toc_position": {},
   "toc_section_display": true,
   "toc_window_display": false
  }
 },
 "nbformat": 4,
 "nbformat_minor": 5
}
